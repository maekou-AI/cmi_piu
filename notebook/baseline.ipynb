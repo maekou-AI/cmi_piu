{
 "cells": [
  {
   "cell_type": "code",
   "execution_count": 1,
   "metadata": {},
   "outputs": [],
   "source": [
    "%load_ext autoreload\n",
    "%autoreload 2"
   ]
  },
  {
   "cell_type": "code",
   "execution_count": 2,
   "metadata": {},
   "outputs": [],
   "source": [
    "# Import\n",
    "import sys\n",
    "sys.path.append(\"/kaggle/src\")\n",
    "\n",
    "from pathlib import Path\n",
    "\n",
    "import polars as pl\n",
    "from sklearn.preprocessing import LabelEncoder\n",
    "\n",
    "from common.constant import TRAIN_CSV_PATH, TEST_CSV_PATH, OUTPUT_DIR\n",
    "from run.lgb001 import run_kfold\n",
    "\n",
    "# Data\n",
    "trn_df = pl.read_csv(TRAIN_CSV_PATH)\n",
    "tst_df = pl.read_csv(TEST_CSV_PATH)\n",
    "\n",
    "base_cols = [col for col in trn_df.columns if col in tst_df.columns]\n",
    "df = pl.concat([trn_df[base_cols], tst_df])\n",
    "\n",
    "# Feature engineering\n",
    "features = pl.concat(\n",
    "    [\n",
    "        df,\n",
    "    ],\n",
    "    how=\"horizontal\",\n",
    ")\n",
    "\n",
    "trn_id = trn_df.drop_nulls(subset=[\"sii\"])[\"id\"].to_list()\n",
    "tst_id = tst_df[\"id\"].to_list()\n",
    "features = pl.concat([\n",
    "    features.slice(0, len(trn_df)).filter(pl.col(\"id\").is_in(trn_id)),\n",
    "    features.slice(len(trn_df)).filter(pl.col(\"id\").is_in(tst_id))\n",
    "])\n",
    "\n",
    "# Preprocessing\n",
    "cat_cols = features.select(pl.col(pl.Utf8)).columns\n",
    "le = LabelEncoder()\n",
    "for col in cat_cols:\n",
    "    encoded = le.fit_transform(features[col].to_numpy())\n",
    "    features = features.with_columns(pl.Series(encoded).alias(col))\n",
    "\n",
    "# Model parameters\n",
    "model_params = {\n",
    "    \"objective\": \"regression\",\n",
    "    \"metric\": \"rmse\",\n",
    "    \"boosting\": \"gbdt\",\n",
    "    \"num_leaves\": 64,\n",
    "    \"bagging_fraction\": 0.8,\n",
    "    \"bagging_freq\": 1,\n",
    "    \"feature_fraction\": 0.8,\n",
    "    \"learning_rate\": 0.1,\n",
    "    \"seed\": 1,\n",
    "    \"num_threads\": 4,\n",
    "}"
   ]
  },
  {
   "cell_type": "code",
   "execution_count": null,
   "metadata": {},
   "outputs": [],
   "source": []
  }
 ],
 "metadata": {
  "kernelspec": {
   "display_name": "base",
   "language": "python",
   "name": "python3"
  },
  "language_info": {
   "codemirror_mode": {
    "name": "ipython",
    "version": 3
   },
   "file_extension": ".py",
   "mimetype": "text/x-python",
   "name": "python",
   "nbconvert_exporter": "python",
   "pygments_lexer": "ipython3",
   "version": "3.10.14"
  }
 },
 "nbformat": 4,
 "nbformat_minor": 2
}
